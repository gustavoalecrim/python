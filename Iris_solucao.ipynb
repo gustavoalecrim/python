{
  "nbformat": 4,
  "nbformat_minor": 0,
  "metadata": {
    "colab": {
      "name": "Iris.ipynb",
      "version": "0.3.2",
      "provenance": [],
      "collapsed_sections": []
    },
    "kernelspec": {
      "display_name": "Python 3",
      "language": "python",
      "name": "python3"
    }
  },
  "cells": [
    {
      "metadata": {
        "id": "WjZWHSzCtp2z",
        "colab_type": "text"
      },
      "cell_type": "markdown",
      "source": [
        "# Análise de Previsão de Churn\n"
      ]
    },
    {
      "metadata": {
        "id": "1KHsVaHrs2Kl",
        "colab_type": "code",
        "colab": {
          "base_uri": "https://localhost:8080/",
          "height": 121
        },
        "outputId": "d4859e44-1525-43b5-8695-790163f23a94"
      },
      "cell_type": "code",
      "source": [
        "# Montar o drive para que o nosso script consiga acessar a base de dados.\n",
        "from google.colab import drive\n",
        "drive.mount('/content/drive')"
      ],
      "execution_count": 1,
      "outputs": [
        {
          "output_type": "stream",
          "text": [
            "Go to this URL in a browser: https://accounts.google.com/o/oauth2/auth?client_id=947318989803-6bn6qk8qdgf4n4g3pfee6491hc0brc4i.apps.googleusercontent.com&redirect_uri=urn%3Aietf%3Awg%3Aoauth%3A2.0%3Aoob&scope=email%20https%3A%2F%2Fwww.googleapis.com%2Fauth%2Fdocs.test%20https%3A%2F%2Fwww.googleapis.com%2Fauth%2Fdrive%20https%3A%2F%2Fwww.googleapis.com%2Fauth%2Fdrive.photos.readonly%20https%3A%2F%2Fwww.googleapis.com%2Fauth%2Fpeopleapi.readonly&response_type=code\n",
            "\n",
            "Enter your authorization code:\n",
            "··········\n",
            "Mounted at /content/drive\n"
          ],
          "name": "stdout"
        }
      ]
    },
    {
      "metadata": {
        "id": "lh2Gr5CbtL1K",
        "colab_type": "code",
        "colab": {}
      },
      "cell_type": "code",
      "source": [
        "import os\n",
        "os.chdir(\"/content/drive/My Drive\")  #MAPEAR PARA O LOCAL NO DRIVE ONDE SE ENCONTRA ESSE ARQUIVO"
      ],
      "execution_count": 0,
      "outputs": []
    },
    {
      "metadata": {
        "id": "nXMJOy1stTlE",
        "colab_type": "code",
        "colab": {
          "base_uri": "https://localhost:8080/",
          "height": 1714
        },
        "outputId": "e12115ad-572d-4d50-bc18-9db23aa4493e"
      },
      "cell_type": "code",
      "source": [
        "!ls #Ver a localização desse script nas pastas. o ARQUIVO DE CHURN DEVE ESTAR LISTADO ABAIXO"
      ],
      "execution_count": 3,
      "outputs": [
        {
          "output_type": "stream",
          "text": [
            " 20150619_ReuniaoAcompanhamento06.docx\n",
            " 20150820_ReuniaoAcompanhamento08.docx\n",
            " 2016_IPVA_boleto.pdf\n",
            " 2017.101.GW.zip\n",
            "'2018-07-25 13:12:40_RGB_Video_.avi'\n",
            "'2018-08-15 10-07-11.mp4'\n",
            " 20180822_095218.jpg\n",
            " 20180906_113839.jpg\n",
            " 20180911_110614.jpg\n",
            " 20180917_100509.jpg\n",
            " 635895851822503045sched_.xlsx\n",
            "'Adsense Mãe.gsheet'\n",
            "'AI (1).rar'\n",
            " AI.rar\n",
            " Aniversário\n",
            "'Apresentação sem título.gslides'\n",
            "'aranha social fluxograma.gdraw'\n",
            " Aula04.rar\n",
            "'Aula Clusterização e Reconhecimento de padrões.pptx'\n",
            "'aula data mining.gsheet'\n",
            "'Aulas ICA'\n",
            " BI\n",
            " BigOil\n",
            "'BIG OIL'\n",
            "'bi-master - programa e quiz.gdoc'\n",
            " breastCancer.csv\n",
            "'bug restart (1).zip'\n",
            "'bug restart.zip'\n",
            " Churn.csv\n",
            " Churn.ipynb\n",
            " Classroom\n",
            "'Colab Notebooks'\n",
            " Colômbia.gdoc\n",
            "'Comprovante de compra.pdf'\n",
            " consumer_complaints.csv\n",
            "'Controle de pagamento 2017_MAR.xlsx.gsheet'\n",
            "'Cópia de employee-timesheet.gsheet'\n",
            "'Cópia de Monthly Employee Timesheet by Hours with Calculations (1).gsheet'\n",
            "'Cópia de Monthly Employee Timesheet by Hours with Calculations.gsheet'\n",
            "'Cópia de Relatório SMARt.gdoc'\n",
            "'Cópia de RN_Aula03_CNN_pipoca.ipynb'\n",
            " Cursos\n",
            "'Data Mining.gdoc'\n",
            " dataset\n",
            " dataset_pipoca\n",
            "'DEEP Learning09-02_v02 (1).pptx'\n",
            "'DEEP Learning09-02_v02.pptx'\n",
            "'DLI C-FX-01 Certificate _ Deep Learning Institute.pdf'\n",
            "'Documento sem título.gdoc'\n",
            " Doutorado\n",
            "'evolutionary algorithms for constrained parameter optimization problems.pdf'\n",
            " ExameQualificacao_Manoela_v16.pptx\n",
            "'Fluxograma Metro Curso Octopus.gdraw'\n",
            "'fluxo paper pso+.gdraw'\n",
            " Halliburton\n",
            "'Hotel buenos aires.pdf'\n",
            " ICA\n",
            " Iris.csv\n",
            " Iris.ipynb\n",
            " juan.zip\n",
            " keys\n",
            " LIRA\n",
            " listaNiver.docx.gdoc\n",
            "'listaPessoas (1).docx.gdoc'\n",
            "'listaPessoas (2).docx.gdoc'\n",
            " listaPessoas.docx.gdoc\n",
            " ManoelaDL.zip\n",
            "'Material GA'\n",
            " MEMORIALv6.docx\n",
            " Mestrado\n",
            "'MEu Controle Orçamento_banco_horas_2017-2.xlsx.gsheet'\n",
            " OCTOPUS\n",
            "'Octopus 2 - Compartilhada'\n",
            " output.pdf\n",
            " peixe.pdf\n",
            " Pessoal\n",
            " Pictures\n",
            "'Planilha sem título (1).gsheet'\n",
            "'Planilha sem título.gsheet'\n",
            " Plano_Trabalho_Professor_Conveniado_DEE_Leonardo_Forero_2014-v4-1.doc\n",
            "'Ponto Fácil'\n",
            "'Ponto Fácil (1)'\n",
            "'Procura-se cientista de dados – BE Petróleo.pdf'\n",
            " ProjetoFinal\n",
            " Projetos\n",
            "'Proposta Curso latosensu BUSINESS INTELLIGENCE À DISTÂNCIA.doc'\n",
            "'Proposta Curso latosensu BUSINESS INTELLIGENCE À DISTÂNCIA.gdoc'\n",
            "'Prova 2 Computação Evolucionaria RCarlosPJ.rar'\n",
            " PSO+\n",
            "'Recursos Instrumentais.gdoc'\n",
            "'Redes Neurais - 2a Edicao - anonymous.mobi'\n",
            "'Relatório sem título'\n",
            "'Relatório SMARt.gdoc'\n",
            " reservatórioOtimizado.mp4\n",
            " ResumeTemplates\n",
            " RN\n",
            "'São Pedro da Aldeia.gdoc'\n",
            "'Tarefas Octopus.xlsx'\n",
            "'Ticket(s)_For_HIS_2018_-_SoCPaR_2018_-_IAS_2018.pdf'\n",
            "'Trabalho Final _ Biologia Computacional'\n",
            " trigger_recycle_gas.txt.gdoc\n"
          ],
          "name": "stdout"
        }
      ]
    },
    {
      "metadata": {
        "id": "ydXN3414swlV",
        "colab_type": "text"
      },
      "cell_type": "markdown",
      "source": [
        "Neste script iremos prever a espécie de uma planta usando o algoritmo KNN (K Nearest Neighbor)."
      ]
    },
    {
      "metadata": {
        "id": "5lHhXR-pswlX",
        "colab_type": "text"
      },
      "cell_type": "markdown",
      "source": [
        "# Setup\n",
        "\n",
        "##Importar bibliotecas necessárias"
      ]
    },
    {
      "metadata": {
        "id": "ag4v_UQIswla",
        "colab_type": "code",
        "colab": {}
      },
      "cell_type": "code",
      "source": [
        "import numpy as np\n",
        "import pandas as pd\n",
        "import matplotlib.pyplot as plt\n",
        "from sklearn.model_selection import train_test_split\n",
        "from sklearn.neighbors import KNeighborsClassifier\n",
        "from sklearn.metrics import accuracy_score\n",
        "\n",
        "%matplotlib inline"
      ],
      "execution_count": 0,
      "outputs": []
    },
    {
      "metadata": {
        "id": "B8F2degOswlh",
        "colab_type": "text"
      },
      "cell_type": "markdown",
      "source": [
        "# Exercício 1\n",
        "\n",
        "Carregue o arquivo csv chamado 'Iris.csv' usando pandas e salve a base em uma variável chamada df. (dica: pd.read_csv('<nome_da_base.csv>')) Imprima as primeiras 10 linhas do dataframe e verifique se tudo foi carregado corretamente. (dica: df.head())"
      ]
    },
    {
      "metadata": {
        "id": "-Hd5KRvgswll",
        "colab_type": "code",
        "colab": {}
      },
      "cell_type": "code",
      "source": [
        "df = pd.read_csv('Iris.csv')"
      ],
      "execution_count": 0,
      "outputs": []
    },
    {
      "metadata": {
        "id": "q7HbT-5EupWg",
        "colab_type": "code",
        "colab": {
          "base_uri": "https://localhost:8080/",
          "height": 195
        },
        "outputId": "b0a92f12-f5f1-4ef7-9e26-9a5e7024fe72"
      },
      "cell_type": "code",
      "source": [
        "df.head()"
      ],
      "execution_count": 6,
      "outputs": [
        {
          "output_type": "execute_result",
          "data": {
            "text/html": [
              "<div>\n",
              "<style scoped>\n",
              "    .dataframe tbody tr th:only-of-type {\n",
              "        vertical-align: middle;\n",
              "    }\n",
              "\n",
              "    .dataframe tbody tr th {\n",
              "        vertical-align: top;\n",
              "    }\n",
              "\n",
              "    .dataframe thead th {\n",
              "        text-align: right;\n",
              "    }\n",
              "</style>\n",
              "<table border=\"1\" class=\"dataframe\">\n",
              "  <thead>\n",
              "    <tr style=\"text-align: right;\">\n",
              "      <th></th>\n",
              "      <th>SepalLengthCm</th>\n",
              "      <th>SepalWidthCm</th>\n",
              "      <th>PetalLengthCm</th>\n",
              "      <th>PetalWidthCm</th>\n",
              "      <th>Species</th>\n",
              "    </tr>\n",
              "  </thead>\n",
              "  <tbody>\n",
              "    <tr>\n",
              "      <th>0</th>\n",
              "      <td>5.1</td>\n",
              "      <td>3.5</td>\n",
              "      <td>1.4</td>\n",
              "      <td>0.2</td>\n",
              "      <td>Iris-setosa</td>\n",
              "    </tr>\n",
              "    <tr>\n",
              "      <th>1</th>\n",
              "      <td>4.9</td>\n",
              "      <td>3.0</td>\n",
              "      <td>1.4</td>\n",
              "      <td>0.2</td>\n",
              "      <td>Iris-setosa</td>\n",
              "    </tr>\n",
              "    <tr>\n",
              "      <th>2</th>\n",
              "      <td>4.7</td>\n",
              "      <td>3.2</td>\n",
              "      <td>1.3</td>\n",
              "      <td>0.2</td>\n",
              "      <td>Iris-setosa</td>\n",
              "    </tr>\n",
              "    <tr>\n",
              "      <th>3</th>\n",
              "      <td>4.6</td>\n",
              "      <td>3.1</td>\n",
              "      <td>1.5</td>\n",
              "      <td>0.2</td>\n",
              "      <td>Iris-setosa</td>\n",
              "    </tr>\n",
              "    <tr>\n",
              "      <th>4</th>\n",
              "      <td>5.0</td>\n",
              "      <td>3.6</td>\n",
              "      <td>1.4</td>\n",
              "      <td>0.2</td>\n",
              "      <td>Iris-setosa</td>\n",
              "    </tr>\n",
              "  </tbody>\n",
              "</table>\n",
              "</div>"
            ],
            "text/plain": [
              "   SepalLengthCm  SepalWidthCm  PetalLengthCm  PetalWidthCm      Species\n",
              "0            5.1           3.5            1.4           0.2  Iris-setosa\n",
              "1            4.9           3.0            1.4           0.2  Iris-setosa\n",
              "2            4.7           3.2            1.3           0.2  Iris-setosa\n",
              "3            4.6           3.1            1.5           0.2  Iris-setosa\n",
              "4            5.0           3.6            1.4           0.2  Iris-setosa"
            ]
          },
          "metadata": {
            "tags": []
          },
          "execution_count": 6
        }
      ]
    },
    {
      "metadata": {
        "id": "8PrIHYtoswlr",
        "colab_type": "text"
      },
      "cell_type": "markdown",
      "source": [
        "# Exercício 2: \n",
        "\n",
        "Que coluna indica a espécie da planta? Quantas plantas existem na sua base de dados? (dica: len(?))\n"
      ]
    },
    {
      "metadata": {
        "id": "2t2_eZmPswly",
        "colab_type": "code",
        "colab": {
          "base_uri": "https://localhost:8080/",
          "height": 34
        },
        "outputId": "3888f26b-1335-4243-c0c4-b19d6ab07303"
      },
      "cell_type": "code",
      "source": [
        "#coluna rótulo: 'Species'\n",
        "# número de plantas:\n",
        "len(df)"
      ],
      "execution_count": 7,
      "outputs": [
        {
          "output_type": "execute_result",
          "data": {
            "text/plain": [
              "150"
            ]
          },
          "metadata": {
            "tags": []
          },
          "execution_count": 7
        }
      ]
    },
    {
      "metadata": {
        "id": "JeRk9vKYswl3",
        "colab_type": "text"
      },
      "cell_type": "markdown",
      "source": [
        "# Exercício 3:\n",
        "\n",
        "Use df.describe() para explorar cada coluna. Todos devem ser igual a 150 pois não temos missing values!!"
      ]
    },
    {
      "metadata": {
        "id": "a5qWKHvQswl5",
        "colab_type": "code",
        "colab": {
          "base_uri": "https://localhost:8080/",
          "height": 284
        },
        "outputId": "f9243768-dcaf-472a-8048-cc4c436c016d"
      },
      "cell_type": "code",
      "source": [
        "df.describe()"
      ],
      "execution_count": 8,
      "outputs": [
        {
          "output_type": "execute_result",
          "data": {
            "text/html": [
              "<div>\n",
              "<style scoped>\n",
              "    .dataframe tbody tr th:only-of-type {\n",
              "        vertical-align: middle;\n",
              "    }\n",
              "\n",
              "    .dataframe tbody tr th {\n",
              "        vertical-align: top;\n",
              "    }\n",
              "\n",
              "    .dataframe thead th {\n",
              "        text-align: right;\n",
              "    }\n",
              "</style>\n",
              "<table border=\"1\" class=\"dataframe\">\n",
              "  <thead>\n",
              "    <tr style=\"text-align: right;\">\n",
              "      <th></th>\n",
              "      <th>SepalLengthCm</th>\n",
              "      <th>SepalWidthCm</th>\n",
              "      <th>PetalLengthCm</th>\n",
              "      <th>PetalWidthCm</th>\n",
              "    </tr>\n",
              "  </thead>\n",
              "  <tbody>\n",
              "    <tr>\n",
              "      <th>count</th>\n",
              "      <td>150.000000</td>\n",
              "      <td>150.000000</td>\n",
              "      <td>150.000000</td>\n",
              "      <td>150.000000</td>\n",
              "    </tr>\n",
              "    <tr>\n",
              "      <th>mean</th>\n",
              "      <td>5.843333</td>\n",
              "      <td>3.054000</td>\n",
              "      <td>3.758667</td>\n",
              "      <td>1.198667</td>\n",
              "    </tr>\n",
              "    <tr>\n",
              "      <th>std</th>\n",
              "      <td>0.828066</td>\n",
              "      <td>0.433594</td>\n",
              "      <td>1.764420</td>\n",
              "      <td>0.763161</td>\n",
              "    </tr>\n",
              "    <tr>\n",
              "      <th>min</th>\n",
              "      <td>4.300000</td>\n",
              "      <td>2.000000</td>\n",
              "      <td>1.000000</td>\n",
              "      <td>0.100000</td>\n",
              "    </tr>\n",
              "    <tr>\n",
              "      <th>25%</th>\n",
              "      <td>5.100000</td>\n",
              "      <td>2.800000</td>\n",
              "      <td>1.600000</td>\n",
              "      <td>0.300000</td>\n",
              "    </tr>\n",
              "    <tr>\n",
              "      <th>50%</th>\n",
              "      <td>5.800000</td>\n",
              "      <td>3.000000</td>\n",
              "      <td>4.350000</td>\n",
              "      <td>1.300000</td>\n",
              "    </tr>\n",
              "    <tr>\n",
              "      <th>75%</th>\n",
              "      <td>6.400000</td>\n",
              "      <td>3.300000</td>\n",
              "      <td>5.100000</td>\n",
              "      <td>1.800000</td>\n",
              "    </tr>\n",
              "    <tr>\n",
              "      <th>max</th>\n",
              "      <td>7.900000</td>\n",
              "      <td>4.400000</td>\n",
              "      <td>6.900000</td>\n",
              "      <td>2.500000</td>\n",
              "    </tr>\n",
              "  </tbody>\n",
              "</table>\n",
              "</div>"
            ],
            "text/plain": [
              "       SepalLengthCm  SepalWidthCm  PetalLengthCm  PetalWidthCm\n",
              "count     150.000000    150.000000     150.000000    150.000000\n",
              "mean        5.843333      3.054000       3.758667      1.198667\n",
              "std         0.828066      0.433594       1.764420      0.763161\n",
              "min         4.300000      2.000000       1.000000      0.100000\n",
              "25%         5.100000      2.800000       1.600000      0.300000\n",
              "50%         5.800000      3.000000       4.350000      1.300000\n",
              "75%         6.400000      3.300000       5.100000      1.800000\n",
              "max         7.900000      4.400000       6.900000      2.500000"
            ]
          },
          "metadata": {
            "tags": []
          },
          "execution_count": 8
        }
      ]
    },
    {
      "metadata": {
        "id": "mNR9bQfLswmJ",
        "colab_type": "text"
      },
      "cell_type": "markdown",
      "source": [
        "# Exercício 5:\n",
        "\n",
        "Verifique o número de colunas da base de dados (dica: df.shape)\n",
        "\n",
        "Separe a base de dados em atributos de entrada e rótulos. Associe os atributos a variável X e os rótulos a variável y.\n",
        "\n",
        "Verifique as primeiras linhas das bases separadas."
      ]
    },
    {
      "metadata": {
        "id": "RvWTW-005MGr",
        "colab_type": "code",
        "colab": {
          "base_uri": "https://localhost:8080/",
          "height": 34
        },
        "outputId": "5a32d44b-5f25-46e5-b550-fe4bdfe8e3e0"
      },
      "cell_type": "code",
      "source": [
        "df.shape"
      ],
      "execution_count": 9,
      "outputs": [
        {
          "output_type": "execute_result",
          "data": {
            "text/plain": [
              "(150, 5)"
            ]
          },
          "metadata": {
            "tags": []
          },
          "execution_count": 9
        }
      ]
    },
    {
      "metadata": {
        "id": "Lgm8IgGgswmM",
        "colab_type": "code",
        "colab": {}
      },
      "cell_type": "code",
      "source": [
        "X = df.iloc[:,0:4]\n",
        "y = df.iloc[:,4]"
      ],
      "execution_count": 0,
      "outputs": []
    },
    {
      "metadata": {
        "id": "nFS8g3U95gVQ",
        "colab_type": "code",
        "colab": {
          "base_uri": "https://localhost:8080/",
          "height": 195
        },
        "outputId": "f4bc6d79-6a84-4f21-a073-a083e17296ed"
      },
      "cell_type": "code",
      "source": [
        "X.head()"
      ],
      "execution_count": 11,
      "outputs": [
        {
          "output_type": "execute_result",
          "data": {
            "text/html": [
              "<div>\n",
              "<style scoped>\n",
              "    .dataframe tbody tr th:only-of-type {\n",
              "        vertical-align: middle;\n",
              "    }\n",
              "\n",
              "    .dataframe tbody tr th {\n",
              "        vertical-align: top;\n",
              "    }\n",
              "\n",
              "    .dataframe thead th {\n",
              "        text-align: right;\n",
              "    }\n",
              "</style>\n",
              "<table border=\"1\" class=\"dataframe\">\n",
              "  <thead>\n",
              "    <tr style=\"text-align: right;\">\n",
              "      <th></th>\n",
              "      <th>SepalLengthCm</th>\n",
              "      <th>SepalWidthCm</th>\n",
              "      <th>PetalLengthCm</th>\n",
              "      <th>PetalWidthCm</th>\n",
              "    </tr>\n",
              "  </thead>\n",
              "  <tbody>\n",
              "    <tr>\n",
              "      <th>0</th>\n",
              "      <td>5.1</td>\n",
              "      <td>3.5</td>\n",
              "      <td>1.4</td>\n",
              "      <td>0.2</td>\n",
              "    </tr>\n",
              "    <tr>\n",
              "      <th>1</th>\n",
              "      <td>4.9</td>\n",
              "      <td>3.0</td>\n",
              "      <td>1.4</td>\n",
              "      <td>0.2</td>\n",
              "    </tr>\n",
              "    <tr>\n",
              "      <th>2</th>\n",
              "      <td>4.7</td>\n",
              "      <td>3.2</td>\n",
              "      <td>1.3</td>\n",
              "      <td>0.2</td>\n",
              "    </tr>\n",
              "    <tr>\n",
              "      <th>3</th>\n",
              "      <td>4.6</td>\n",
              "      <td>3.1</td>\n",
              "      <td>1.5</td>\n",
              "      <td>0.2</td>\n",
              "    </tr>\n",
              "    <tr>\n",
              "      <th>4</th>\n",
              "      <td>5.0</td>\n",
              "      <td>3.6</td>\n",
              "      <td>1.4</td>\n",
              "      <td>0.2</td>\n",
              "    </tr>\n",
              "  </tbody>\n",
              "</table>\n",
              "</div>"
            ],
            "text/plain": [
              "   SepalLengthCm  SepalWidthCm  PetalLengthCm  PetalWidthCm\n",
              "0            5.1           3.5            1.4           0.2\n",
              "1            4.9           3.0            1.4           0.2\n",
              "2            4.7           3.2            1.3           0.2\n",
              "3            4.6           3.1            1.5           0.2\n",
              "4            5.0           3.6            1.4           0.2"
            ]
          },
          "metadata": {
            "tags": []
          },
          "execution_count": 11
        }
      ]
    },
    {
      "metadata": {
        "id": "x7MKn5Zk5jSp",
        "colab_type": "code",
        "colab": {
          "base_uri": "https://localhost:8080/",
          "height": 118
        },
        "outputId": "73d3aec7-c217-4e9e-d696-ecf77e2a82be"
      },
      "cell_type": "code",
      "source": [
        "y.head()"
      ],
      "execution_count": 12,
      "outputs": [
        {
          "output_type": "execute_result",
          "data": {
            "text/plain": [
              "0    Iris-setosa\n",
              "1    Iris-setosa\n",
              "2    Iris-setosa\n",
              "3    Iris-setosa\n",
              "4    Iris-setosa\n",
              "Name: Species, dtype: object"
            ]
          },
          "metadata": {
            "tags": []
          },
          "execution_count": 12
        }
      ]
    },
    {
      "metadata": {
        "id": "dtmjyFBRswmT",
        "colab_type": "text"
      },
      "cell_type": "markdown",
      "source": [
        "# Exercício 6: \n",
        "\n",
        "Separa a base de treino (70%) e teste (30%) e associe-as as variáveis X_train, X_test, y_train, y_test (dica: train_test_split(X,y, test_size=0.3))"
      ]
    },
    {
      "metadata": {
        "id": "vNasDqZ-swmZ",
        "colab_type": "code",
        "colab": {}
      },
      "cell_type": "code",
      "source": [
        "X_train, X_test, y_train, y_test = train_test_split(X,y,test_size=0.3)"
      ],
      "execution_count": 0,
      "outputs": []
    },
    {
      "metadata": {
        "id": "tYkjU-cMswmd",
        "colab_type": "text"
      },
      "cell_type": "markdown",
      "source": [
        "# Exercício 7: \n",
        "\n",
        "Crie um classificador KNN com 5 vizinhos. (hint: KNeighborsClassifier(n_neighbors=5))"
      ]
    },
    {
      "metadata": {
        "id": "6HHTH2Iuswmf",
        "colab_type": "code",
        "colab": {}
      },
      "cell_type": "code",
      "source": [
        "knn = KNeighborsClassifier(n_neighbors=5)"
      ],
      "execution_count": 0,
      "outputs": []
    },
    {
      "metadata": {
        "id": "EMic1KSyswmj",
        "colab_type": "text"
      },
      "cell_type": "markdown",
      "source": [
        "# Exercício 8:\n",
        "\n",
        "Apresente a base de treino para ajustar o modelo. (hint: knn.fit(<base_de_treino_atributos>, <base_de_treino_rotulos>))"
      ]
    },
    {
      "metadata": {
        "id": "frU84hhPswmm",
        "colab_type": "code",
        "colab": {}
      },
      "cell_type": "code",
      "source": [
        "knn = knn.fit(X_train, y_train)"
      ],
      "execution_count": 0,
      "outputs": []
    },
    {
      "metadata": {
        "id": "ryUcU5vOswms",
        "colab_type": "text"
      },
      "cell_type": "markdown",
      "source": [
        "# Exercício 9:\n",
        "\n",
        "Use o modelo para fazer previsões na base de teste. Associe os resultados de previsão a variável y_pred"
      ]
    },
    {
      "metadata": {
        "id": "9hxSvQcKswmx",
        "colab_type": "code",
        "colab": {}
      },
      "cell_type": "code",
      "source": [
        "y_pred = knn.predict(X_test)"
      ],
      "execution_count": 0,
      "outputs": []
    },
    {
      "metadata": {
        "id": "5WfVRPM3swm3",
        "colab_type": "text"
      },
      "cell_type": "markdown",
      "source": [
        "# Exercício 10:\n",
        "\n",
        "Determine quão acurado é o seu modelo. (dica: accuracy_score(<rotulo_real>, <rotulo_previsto>))"
      ]
    },
    {
      "metadata": {
        "id": "REC5DKkOswm4",
        "colab_type": "code",
        "colab": {
          "base_uri": "https://localhost:8080/",
          "height": 34
        },
        "outputId": "3753124e-e92c-4013-ac94-8f937dfce010"
      },
      "cell_type": "code",
      "source": [
        " accuracy_score(y_test,y_pred)"
      ],
      "execution_count": 17,
      "outputs": [
        {
          "output_type": "execute_result",
          "data": {
            "text/plain": [
              "1.0"
            ]
          },
          "metadata": {
            "tags": []
          },
          "execution_count": 17
        }
      ]
    }
  ]
}